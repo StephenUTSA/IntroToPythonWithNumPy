{
 "cells": [
  {
   "cell_type": "code",
   "execution_count": null,
   "id": "part-0-introduction-and-applied-linear-algebra-with-numpy",
   "metadata": {},
   "outputs": [],
   "source": [
    "# Part 0: Very Basics of Python\n",
    "\n",
    "# Introduction to basic data types: int, float, string\n",
    "\n",
    "# An integer (int) is a whole number\n",
    "my_int = 5\n",
    "print(\"This is an integer:\", my_int)"
   ]
  },
  {
   "cell_type": "code",
   "execution_count": null,
   "id": "part-0-introduction-and-applied-linear-algebra-with-numpy-float",
   "metadata": {},
   "outputs": [],
   "source": [
    "# A float is a number with a decimal point\n",
    "my_float = 5.75\n",
    "print(\"This is a float:\", my_float)"
   ]
  },
  {
   "cell_type": "code",
   "execution_count": null,
   "id": "part-0-introduction-and-applied-linear-algebra-with-numpy-string",
   "metadata": {},
   "outputs": [],
   "source": [
    "# A string is a sequence of characters enclosed in quotes\n",
    "my_string = \"Hello, world!\"\n",
    "print(\"This is a string:\", my_string)"
   ]
  },
  {
   "cell_type": "code",
   "execution_count": null,
   "id": "part-0-introduction-user-input",
   "metadata": {},
   "outputs": [],
   "source": [
    "# Using the input function to get user input\n",
    "# input() reads user input as a string\n",
    "user_input = input(\"Enter something: \")\n",
    "print(\"You entered:\", user_input)"
   ]
  },
  {
   "cell_type": "code",
   "execution_count": null,
   "id": "part-0-introduction-user-input-conversion",
   "metadata": {},
   "outputs": [],
   "source": [
    "# To convert user input to int or float, use int() or float() function\n",
    "user_number = float(input(\"Enter a number: \"))\n",
    "print(\"You entered the number:\", user_number)"
   ]
  },
  {
   "cell_type": "code",
   "execution_count": null,
   "id": "part-1-introduction-to-python-temperature-conversion",
   "metadata": {},
   "outputs": [],
   "source": [
    "# Part 1: Introduction to Python\n",
    "\n",
    "# Basic Syntax and Operations\n",
    "\n",
    "# Example 1: Convert temperatures from Celsius to Fahrenheit\n",
    "def celsius_to_fahrenheit(celsius):\n",
    "    # Formula: (Celsius * 9/5) + 32 = Fahrenheit\n",
    "    return (celsius * 9/5) + 32\n",
    "\n",
    "# Example usage\n",
    "temp_c = 25\n",
    "temp_f = celsius_to_fahrenheit(temp_c)\n",
    "print(f\"{temp_c} Celsius is {temp_f} Fahrenheit\")"
   ]
  },
  {
   "cell_type": "code",
   "execution_count": null,
   "id": "part-1-introduction-to-python-factorial",
   "metadata": {},
   "outputs": [],
   "source": [
    "# Example 2: Calculate the factorial of a number\n",
    "def factorial(n):\n",
    "    result = 1\n",
    "    for i in range(1, n + 1):\n",
    "        result *= i\n",
    "    return result\n",
    "\n",
    "# Example usage\n",
    "num = 5\n",
    "print(f\"Factorial of {num} is {factorial(num)}\")"
   ]
  },
  {
   "cell_type": "code",
   "execution_count": null,
   "id": "part-1-data-structures-primes",
   "metadata": {},
   "outputs": [],
   "source": [
    "# Data Structures\n",
    "\n",
    "# Example 1: List of the first ten prime numbers and a function to check if a number is prime\n",
    "primes = [2, 3, 5, 7, 11, 13, 17, 19, 23, 29]\n",
    "\n",
    "def is_prime(n):\n",
    "    if n <= 1:\n",
    "        return False\n",
    "    for i in range(2, int(n**0.5) + 1):\n",
    "        if n % i == 0:\n",
    "            return False\n",
    "    return True\n",
    "\n",
    "# Example usage\n",
    "test_num = 11\n",
    "print(f\"Is {test_num} a prime number? {is_prime(test_num)}\")"
   ]
  },
  {
   "cell_type": "code",
   "execution_count": null,
   "id": "part-1-data-structures-dictionary",
   "metadata": {},
   "outputs": [],
   "source": [
    "# Example 2: Dictionary that maps student names to their grades\n",
    "grades = {\"Alice\": 85, \"Bob\": 92, \"Charlie\": 78}\n",
    "\n",
    "def add_student(name, grade):\n",
    "    grades[name] = grade\n",
    "\n",
    "def average_grade():\n",
    "    return sum(grades.values()) / len(grades)\n",
    "\n",
    "# Example usage\n",
    "add_student(\"David\", 90)\n",
    "print(f\"Average grade: {average_grade()}\")"
   ]
  },
  {
   "cell_type": "code",
   "execution_count": null,
   "id": "part-2-introduction-to-numpy",
   "metadata": {},
   "outputs": [],
   "source": [
    "# Part 2: Introduction to NumPy\n",
    "\n",
    "import numpy as np"
   ]
  },
  {
   "cell_type": "code",
   "execution_count": null,
   "id": "part-2-numpy-even-numbers",
   "metadata": {},
   "outputs": [],
   "source": [
    "# Getting Started with NumPy\n",
    "\n",
    "# Example 1: Create a NumPy array of the first 20 even numbers\n",
    "even_numbers = np.arange(2, 41, 2)\n",
    "print(\"First 20 even numbers:\", even_numbers)"
   ]
  },
  {
   "cell_type": "code",
   "execution_count": null,
   "id": "part-2-numpy-element-wise-operations",
   "metadata": {},
   "outputs": [],
   "source": [
    "# Example 2: Element-wise operations on NumPy arrays\n",
    "array1 = np.array([1, 2, 3, 4])\n",
    "array2 = np.array([5, 6, 7, 8])\n",
    "\n",
    "print(\"Element-wise addition:\", array1 + array2)\n",
    "print(\"Element-wise subtraction:\", array1 - array2)\n",
    "print(\"Element-wise multiplication:\", array1 * array2)"
   ]
  },
  {
   "cell_type": "code",
   "execution_count": null,
   "id": "part-2-linear-algebra-numpy-dot-product",
   "metadata": {},
   "outputs": [],
   "source": [
    "# Linear Algebra with NumPy\n",
    "\n",
    "# Example 1: Dot product of two vectors\n",
    "vector1 = np.array([1, 2, 3])\n",
    "vector2 = np.array([4, 5, 6])\n",
    "\n",
    "dot_product = np.dot(vector1, vector2)\n",
    "print(\"Dot product:\", dot_product)"
   ]
  },
  {
   "cell_type": "code",
   "execution_count": null,
   "id": "part-2-linear-algebra-numpy-determinant",
   "metadata": {},
   "outputs": [],
   "source": [
    "# Example 2: Create a 3x3 matrix and compute its determinant\n",
    "matrix = np.array([[1, 2, 3], [4, 5, 6], [7, 8, 9]])\n",
    "\n",
    "determinant = np.linalg.det(matrix)\n",
    "print(\"Determinant of the matrix:\", determinant)"
   ]
  },
  {
   "cell_type": "code",
   "execution_count": null,
   "id": "part-2-linear-algebra-numpy-solve-system",
   "metadata": {},
   "outputs": [],
   "source": [
    "# Example 3: Solve a system of linear equations\n",
    "# System of equations:\n",
    "# 2x + 3y = 8\n",
    "# x - y = 2\n",
    "A = np.array([[2, 3], [1, -1]])\n",
    "b = np.array([8, 2])\n",
    "\n",
    "solution = np.linalg.solve(A, b)\n",
    "print(\"Solution to the system of equations:\", solution)"
   ]
  },
  {
   "cell_type": "code",
   "execution_count": null,
   "id": "part-2-applied-linalg-least-squares-method",
   "metadata": {},
   "outputs": [],
   "source": [
    "# Applied Linear Algebra Example: Line of Best Fit (Least Squares Method)\n",
    "\n",
    "import matplotlib.pyplot as plt\n",
    "\n",
    "# Sample dataset\n",
    "points = np.array([[1, 2], [2, 3], [3, 5], [4, 4], [5, 5]])\n",
    "\n",
    "# Extracting X and y values\n",
    "X = points[:, 0]\n",
    "y = points[:, 1]"
   ]
  },
  {
   "cell_type": "code",
   "execution_count": null,
   "id": "part-2-applied-line-of-best-fit",
   "metadata": {},
   "outputs": [],
   "source": [
    "# Adding a column of ones to X for the intercept term\n",
    "X_b = np.c_[np.ones((len(X), 1)), X]\n",
    "\n",
    "# Using the normal equation to compute the coefficients (beta)\n",
    "beta = np.linalg.inv(X_b.T.dot(X_b)).dot(X_b.T).dot(y)\n",
    "\n",
    "# Print the coefficients\n",
    "print(\"Coefficients (beta):\", beta)"
   ]
  },
  {
   "cell_type": "code",
   "execution_count": null,
   "id": "part-2-applied-line-of-best-fit-plot",
   "metadata": {},
   "outputs": [],
   "source": [
    "# Plotting the points and the line of best fit\n",
    "plt.scatter(X, y, color='blue', label='Data points')\n",
    "plt.plot(X, X_b.dot(beta), color='red', label='Line of best fit')\n",
    "plt.xlabel('X')\n",
    "plt.ylabel('y')\n",
    "plt.legend()\n",
    "plt.show()"
   ]
  }
 ],
 "metadata": {
  "kernelspec": {
   "display_name": "Python 3 (ipykernel)",
   "language": "python",
   "name": "python3"
  },
  "language_info": {
   "codemirror_mode": {
    "name": "ipython",
    "version": 3
   },
   "file_extension": ".py",
   "mimetype": "text/x-python",
   "name": "python",
   "nbconvert_exporter": "python",
   "pygments_lexer": "ipython3",
   "version": "3.12.6"
  }
 },
 "nbformat": 4,
 "nbformat_minor": 5
}
